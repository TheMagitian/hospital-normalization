{
 "cells": [
  {
   "cell_type": "markdown",
   "id": "63079409-dfc4-48eb-9515-7814e9e46384",
   "metadata": {
    "scrolled": true
   },
   "source": [
    "# Importing required Python libraries/packages"
   ]
  },
  {
   "cell_type": "code",
   "execution_count": 2,
   "id": "5e5b52fa-19e1-4872-956d-95da22318efe",
   "metadata": {},
   "outputs": [],
   "source": [
    "import getpass\n",
    "import oracledb\n",
    "import pandas as pd\n",
    "from datetime import date"
   ]
  },
  {
   "cell_type": "markdown",
   "id": "9eca8d31-dc2b-4897-a8a5-c6bff4e58409",
   "metadata": {},
   "source": [
    "# Initialising **thick mode** for Oracle DB - for connection with the local DB instance."
   ]
  },
  {
   "cell_type": "code",
   "execution_count": 3,
   "id": "6b662303-d126-4489-acf3-be741c92297e",
   "metadata": {},
   "outputs": [],
   "source": [
    "oracledb.init_oracle_client(lib_dir='/opt/oracle/product/21c/dbhomeXE/lib')"
   ]
  },
  {
   "cell_type": "markdown",
   "id": "b3d1f2d9-e315-4026-8dd5-f09dd1143dd8",
   "metadata": {},
   "source": [
    "# Establishing connection to the DB, as *SYS* user, in *SYSDBA* role"
   ]
  },
  {
   "cell_type": "code",
   "execution_count": 4,
   "id": "11195106-98d2-4421-83bf-e9e6d3cdbb34",
   "metadata": {},
   "outputs": [],
   "source": [
    "connection = oracledb.connect(\n",
    "\tmode=oracledb.AUTH_MODE_SYSDBA,\n",
    "\tdsn=\"localhost/XEPDB1\"\n",
    ")"
   ]
  },
  {
   "cell_type": "markdown",
   "id": "f678d27a-4b6a-4381-ac5d-df65f506db4b",
   "metadata": {},
   "source": [
    "# Creating a **cursor** to interact with the DB instance"
   ]
  },
  {
   "cell_type": "code",
   "execution_count": 5,
   "id": "ac612f09-45c9-44b1-986d-2264e306aec6",
   "metadata": {},
   "outputs": [],
   "source": [
    "cursor = connection.cursor()"
   ]
  },
  {
   "cell_type": "markdown",
   "id": "2fe9f18a-2024-453f-9c47-a9dd884fff26",
   "metadata": {},
   "source": [
    "# Executing, and displaying the output of, commands on the `placement_event` database"
   ]
  },
  {
   "cell_type": "code",
   "execution_count": 6,
   "id": "b97dabef-9d70-4a91-832e-839b1b8bca2f",
   "metadata": {},
   "outputs": [
    {
     "data": {
      "text/html": [
       "<div>\n",
       "<style scoped>\n",
       "    .dataframe tbody tr th:only-of-type {\n",
       "        vertical-align: middle;\n",
       "    }\n",
       "\n",
       "    .dataframe tbody tr th {\n",
       "        vertical-align: top;\n",
       "    }\n",
       "\n",
       "    .dataframe thead th {\n",
       "        text-align: right;\n",
       "    }\n",
       "</style>\n",
       "<table border=\"1\" class=\"dataframe\">\n",
       "  <thead>\n",
       "    <tr style=\"text-align: right;\">\n",
       "      <th></th>\n",
       "      <th>EVENT_ID</th>\n",
       "      <th>EVENT_NAME</th>\n",
       "      <th>EVENT_DATE</th>\n",
       "      <th>EVENT_LOCATION</th>\n",
       "      <th>COMPANY_ID</th>\n",
       "    </tr>\n",
       "  </thead>\n",
       "  <tbody>\n",
       "    <tr>\n",
       "      <th>0</th>\n",
       "      <td>1</td>\n",
       "      <td>Tech Job Fair</td>\n",
       "      <td>2024-03-10</td>\n",
       "      <td>Tech Park</td>\n",
       "      <td>1</td>\n",
       "    </tr>\n",
       "    <tr>\n",
       "      <th>1</th>\n",
       "      <td>2</td>\n",
       "      <td>Green Energy Conference</td>\n",
       "      <td>2024-04-12</td>\n",
       "      <td>Green Hall</td>\n",
       "      <td>2</td>\n",
       "    </tr>\n",
       "    <tr>\n",
       "      <th>2</th>\n",
       "      <td>3</td>\n",
       "      <td>Automotive Career Expo</td>\n",
       "      <td>2024-05-14</td>\n",
       "      <td>Auto Convention Center</td>\n",
       "      <td>3</td>\n",
       "    </tr>\n",
       "    <tr>\n",
       "      <th>3</th>\n",
       "      <td>4</td>\n",
       "      <td>Construction Expo</td>\n",
       "      <td>2024-06-16</td>\n",
       "      <td>Skyline Plaza</td>\n",
       "      <td>4</td>\n",
       "    </tr>\n",
       "    <tr>\n",
       "      <th>4</th>\n",
       "      <td>5</td>\n",
       "      <td>Healthcare Career Summit</td>\n",
       "      <td>2024-07-18</td>\n",
       "      <td>BioHealth Arena</td>\n",
       "      <td>5</td>\n",
       "    </tr>\n",
       "    <tr>\n",
       "      <th>5</th>\n",
       "      <td>6</td>\n",
       "      <td>Agriculture Conference</td>\n",
       "      <td>2024-08-20</td>\n",
       "      <td>AgroGrow Field</td>\n",
       "      <td>6</td>\n",
       "    </tr>\n",
       "    <tr>\n",
       "      <th>6</th>\n",
       "      <td>7</td>\n",
       "      <td>Fintech Career Fest</td>\n",
       "      <td>2024-09-22</td>\n",
       "      <td>Fintech Center</td>\n",
       "      <td>7</td>\n",
       "    </tr>\n",
       "  </tbody>\n",
       "</table>\n",
       "</div>"
      ],
      "text/plain": [
       "   EVENT_ID                EVENT_NAME EVENT_DATE          EVENT_LOCATION  \\\n",
       "0         1             Tech Job Fair 2024-03-10               Tech Park   \n",
       "1         2   Green Energy Conference 2024-04-12              Green Hall   \n",
       "2         3    Automotive Career Expo 2024-05-14  Auto Convention Center   \n",
       "3         4         Construction Expo 2024-06-16           Skyline Plaza   \n",
       "4         5  Healthcare Career Summit 2024-07-18         BioHealth Arena   \n",
       "5         6    Agriculture Conference 2024-08-20          AgroGrow Field   \n",
       "6         7       Fintech Career Fest 2024-09-22          Fintech Center   \n",
       "\n",
       "   COMPANY_ID  \n",
       "0           1  \n",
       "1           2  \n",
       "2           3  \n",
       "3           4  \n",
       "4           5  \n",
       "5           6  \n",
       "6           7  "
      ]
     },
     "execution_count": 6,
     "metadata": {},
     "output_type": "execute_result"
    }
   ],
   "source": [
    "cursor.execute(\"select * from placement_event\")\n",
    "\n",
    "results = cursor.fetchall()\n",
    "columns = [col[0] for col in cursor.description]\n",
    "\n",
    "df = pd.DataFrame(results, columns=columns)\n",
    "df"
   ]
  },
  {
   "cell_type": "markdown",
   "id": "b8cf1c41-9ff7-4788-a7c5-57dea736bdd4",
   "metadata": {},
   "source": [
    "# Creating the tables"
   ]
  },
  {
   "cell_type": "markdown",
   "id": "7ab82cdb-6d66-45a6-a732-9e0243e4a8d6",
   "metadata": {},
   "source": [
    "## Patient table"
   ]
  },
  {
   "cell_type": "code",
   "execution_count": null,
   "id": "2a025e10-9fa2-4d85-a43f-c964136936e7",
   "metadata": {
    "scrolled": true
   },
   "outputs": [],
   "source": [
    "# cursor.execute(\"drop table patient\")\n",
    "\n",
    "cursor.execute(\"\"\"\n",
    "create table patient(\n",
    "    patient_id number primary key,\n",
    "    name varchar2(100),\n",
    "    address varchar2(255),\n",
    "    date_of_birth date,\n",
    "    phone varchar2(15)\n",
    "    )\n",
    "\"\"\")"
   ]
  },
  {
   "cell_type": "markdown",
   "id": "7d5bb30e-1633-4afe-912c-8966b107aa2e",
   "metadata": {},
   "source": [
    "## Doctor table"
   ]
  },
  {
   "cell_type": "code",
   "execution_count": 16,
   "id": "4dc39d97-77b4-4176-ab2d-2b58435b84ff",
   "metadata": {},
   "outputs": [],
   "source": [
    "#cursor.execute(\"drop table doctor\")\n",
    "\n",
    "cursor.execute(\"\"\"\n",
    "create table doctor(\n",
    "    doctor_id number primary key,\n",
    "    name varchar2(100),\n",
    "    specializations varchar2(255),\n",
    "    experience_years number,\n",
    "    contact varchar2(15)\n",
    "    )\n",
    "\"\"\")"
   ]
  },
  {
   "cell_type": "markdown",
   "id": "aed3c8eb-41b7-4644-b16c-17ae0bf41216",
   "metadata": {},
   "source": [
    "## Room table"
   ]
  },
  {
   "cell_type": "code",
   "execution_count": 17,
   "id": "8e402fdd-1e7a-41f2-96b8-3d797e0b156f",
   "metadata": {},
   "outputs": [],
   "source": [
    "#cursor.execute(\"drop table room\")\n",
    "\n",
    "cursor.execute(\"\"\"\n",
    "create table room(\n",
    "    room_id number primary key,\n",
    "    room_type varchar2(50),\n",
    "    capacity number,\n",
    "    status varchar2(50)\n",
    ")\n",
    "\"\"\")"
   ]
  },
  {
   "cell_type": "markdown",
   "id": "f17acc2a-9beb-4512-b621-8f3d34b4474f",
   "metadata": {},
   "source": [
    "## Treatment table"
   ]
  },
  {
   "cell_type": "code",
   "execution_count": 18,
   "id": "ff24647f-2268-422c-afab-abb7fe4ecc48",
   "metadata": {},
   "outputs": [],
   "source": [
    "#cursor.execute(\"drop table treatment\")\n",
    "\n",
    "cursor.execute(\"\"\"\n",
    "create table treatment(\n",
    "    treatment_id number primary key,\n",
    "    patient_id number,\n",
    "    doctor_id number,\n",
    "    treatment_type varchar2(100),\n",
    "    start_date date,\n",
    "    end_date date,\n",
    "    foreign key(patient_id) references patient(patient_id),\n",
    "    foreign key(doctor_id) references doctor(doctor_id)\n",
    ")\n",
    "\"\"\")"
   ]
  },
  {
   "cell_type": "markdown",
   "id": "e2453d22-4932-4701-ba88-f07b2f13f512",
   "metadata": {},
   "source": [
    "## Appointment table"
   ]
  },
  {
   "cell_type": "code",
   "execution_count": 20,
   "id": "704ddd4c-d5ac-4e52-ae78-12d8e02479be",
   "metadata": {},
   "outputs": [],
   "source": [
    "# cursor.execute(\"drop table appointment\")\n",
    "\n",
    "cursor.execute(\"\"\"\n",
    "create table appointment(\n",
    "    appointment_id number primary key,\n",
    "    patient_id number,\n",
    "    doctor_id number,\n",
    "    room_id number,\n",
    "    appointment_date date,\n",
    "    appointment_time varchar2(10),\n",
    "    foreign key(patient_id) references patient(patient_id),\n",
    "    foreign key(doctor_id) references doctor(doctor_id),\n",
    "    foreign key(room_id) references room(room_id)\n",
    ")\n",
    "\"\"\")"
   ]
  },
  {
   "cell_type": "markdown",
   "id": "ce10541f-86b9-4c6b-bf30-25dcd7df12e6",
   "metadata": {},
   "source": [
    "## Bill table"
   ]
  },
  {
   "cell_type": "code",
   "execution_count": 21,
   "id": "8743dee8-c58a-467c-b2fc-7a6b3670f205",
   "metadata": {},
   "outputs": [],
   "source": [
    "# cursor.execute(\"drop table bill\")\n",
    "\n",
    "cursor.execute(\"\"\"\n",
    "create table bill(\n",
    "    bill_id number primary key,\n",
    "    patient_id number,\n",
    "    treatment_id number,\n",
    "    total_amount number,\n",
    "    date_issued date,\n",
    "    foreign key(patient_id) references patient(patient_id),\n",
    "    foreign key(treatment_id) references treatment(treatment_id)\n",
    ")\n",
    "\"\"\")"
   ]
  },
  {
   "cell_type": "markdown",
   "id": "fb4e8b7d-6520-4d8d-ba14-6a2f241f07e7",
   "metadata": {},
   "source": [
    "# Inserting records"
   ]
  },
  {
   "cell_type": "markdown",
   "id": "9f59f25f-ea94-45ff-a74e-74c59eb50736",
   "metadata": {},
   "source": [
    "## Patient table"
   ]
  },
  {
   "cell_type": "code",
   "execution_count": 8,
   "id": "31492e6c-a796-4ebf-8a7b-1e66b314a9b7",
   "metadata": {},
   "outputs": [
    {
     "data": {
      "text/html": [
       "<div>\n",
       "<style scoped>\n",
       "    .dataframe tbody tr th:only-of-type {\n",
       "        vertical-align: middle;\n",
       "    }\n",
       "\n",
       "    .dataframe tbody tr th {\n",
       "        vertical-align: top;\n",
       "    }\n",
       "\n",
       "    .dataframe thead th {\n",
       "        text-align: right;\n",
       "    }\n",
       "</style>\n",
       "<table border=\"1\" class=\"dataframe\">\n",
       "  <thead>\n",
       "    <tr style=\"text-align: right;\">\n",
       "      <th></th>\n",
       "      <th>PATIENT_ID</th>\n",
       "      <th>NAME</th>\n",
       "      <th>ADDRESS</th>\n",
       "      <th>DATE_OF_BIRTH</th>\n",
       "      <th>PHONE</th>\n",
       "    </tr>\n",
       "  </thead>\n",
       "  <tbody>\n",
       "    <tr>\n",
       "      <th>0</th>\n",
       "      <td>1</td>\n",
       "      <td>Aarav</td>\n",
       "      <td>123, ABC St</td>\n",
       "      <td>1994-05-05</td>\n",
       "      <td>1234567890</td>\n",
       "    </tr>\n",
       "    <tr>\n",
       "      <th>1</th>\n",
       "      <td>2</td>\n",
       "      <td>Priya</td>\n",
       "      <td>45, DEF St</td>\n",
       "      <td>1995-08-12</td>\n",
       "      <td>0987654321</td>\n",
       "    </tr>\n",
       "    <tr>\n",
       "      <th>2</th>\n",
       "      <td>3</td>\n",
       "      <td>Ravi</td>\n",
       "      <td>78, GHI St</td>\n",
       "      <td>1994-03-03</td>\n",
       "      <td>5647382910</td>\n",
       "    </tr>\n",
       "    <tr>\n",
       "      <th>3</th>\n",
       "      <td>4</td>\n",
       "      <td>Simran</td>\n",
       "      <td>56, JKL St</td>\n",
       "      <td>1996-02-15</td>\n",
       "      <td>4321567890</td>\n",
       "    </tr>\n",
       "  </tbody>\n",
       "</table>\n",
       "</div>"
      ],
      "text/plain": [
       "   PATIENT_ID    NAME      ADDRESS DATE_OF_BIRTH       PHONE\n",
       "0           1   Aarav  123, ABC St    1994-05-05  1234567890\n",
       "1           2   Priya   45, DEF St    1995-08-12  0987654321\n",
       "2           3    Ravi   78, GHI St    1994-03-03  5647382910\n",
       "3           4  Simran   56, JKL St    1996-02-15  4321567890"
      ]
     },
     "execution_count": 8,
     "metadata": {},
     "output_type": "execute_result"
    }
   ],
   "source": [
    "patients = [\n",
    "    (1, 'Aarav', '123, ABC St', date(1994, 5, 5), '1234567890'),\n",
    "    (2, 'Priya', '45, DEF St', date(1995, 8, 12), '0987654321'),\n",
    "    (3, 'Ravi', '78, GHI St', date(1994, 3, 3), '5647382910'),\n",
    "    (4, 'Simran', '56, JKL St', date(1996, 2, 15), '4321567890')\n",
    "]\n",
    "\n",
    "cursor.executemany(\"\"\"\n",
    "    insert into patient values(:1, :2, :3, :4, :5)\n",
    "    \"\"\", patients)\n",
    "\n",
    "cursor.execute(\"select * from patient\")\n",
    "results = cursor.fetchall()\n",
    "columns = [col[0] for col in cursor.description]\n",
    "\n",
    "df = pd.DataFrame(results, columns=columns)\n",
    "df"
   ]
  },
  {
   "cell_type": "markdown",
   "id": "c2c969c2-b7e7-4a89-b601-f49b8cf7df58",
   "metadata": {},
   "source": [
    "## Doctor table"
   ]
  },
  {
   "cell_type": "code",
   "execution_count": 9,
   "id": "44e32985-47d8-4d0c-9f9c-84de23fd0272",
   "metadata": {},
   "outputs": [
    {
     "data": {
      "text/html": [
       "<div>\n",
       "<style scoped>\n",
       "    .dataframe tbody tr th:only-of-type {\n",
       "        vertical-align: middle;\n",
       "    }\n",
       "\n",
       "    .dataframe tbody tr th {\n",
       "        vertical-align: top;\n",
       "    }\n",
       "\n",
       "    .dataframe thead th {\n",
       "        text-align: right;\n",
       "    }\n",
       "</style>\n",
       "<table border=\"1\" class=\"dataframe\">\n",
       "  <thead>\n",
       "    <tr style=\"text-align: right;\">\n",
       "      <th></th>\n",
       "      <th>DOCTOR_ID</th>\n",
       "      <th>NAME</th>\n",
       "      <th>SPECIALIZATIONS</th>\n",
       "      <th>EXPERIENCE_YEARS</th>\n",
       "      <th>CONTACT</th>\n",
       "    </tr>\n",
       "  </thead>\n",
       "  <tbody>\n",
       "    <tr>\n",
       "      <th>0</th>\n",
       "      <td>1</td>\n",
       "      <td>Dr. A</td>\n",
       "      <td>Cardiology</td>\n",
       "      <td>15</td>\n",
       "      <td>1231231234</td>\n",
       "    </tr>\n",
       "    <tr>\n",
       "      <th>1</th>\n",
       "      <td>2</td>\n",
       "      <td>Dr. B</td>\n",
       "      <td>Neurology</td>\n",
       "      <td>10</td>\n",
       "      <td>3213214321</td>\n",
       "    </tr>\n",
       "    <tr>\n",
       "      <th>2</th>\n",
       "      <td>3</td>\n",
       "      <td>Dr. C</td>\n",
       "      <td>Orthopedics</td>\n",
       "      <td>20</td>\n",
       "      <td>6546546543</td>\n",
       "    </tr>\n",
       "    <tr>\n",
       "      <th>3</th>\n",
       "      <td>4</td>\n",
       "      <td>Dr. D</td>\n",
       "      <td>Dermatology</td>\n",
       "      <td>8</td>\n",
       "      <td>7897897890</td>\n",
       "    </tr>\n",
       "  </tbody>\n",
       "</table>\n",
       "</div>"
      ],
      "text/plain": [
       "   DOCTOR_ID   NAME SPECIALIZATIONS  EXPERIENCE_YEARS     CONTACT\n",
       "0          1  Dr. A      Cardiology                15  1231231234\n",
       "1          2  Dr. B       Neurology                10  3213214321\n",
       "2          3  Dr. C     Orthopedics                20  6546546543\n",
       "3          4  Dr. D     Dermatology                 8  7897897890"
      ]
     },
     "execution_count": 9,
     "metadata": {},
     "output_type": "execute_result"
    }
   ],
   "source": [
    "doctors = [\n",
    "    (1, 'Dr. A', 'Cardiology', 15, '1231231234'),\n",
    "    (2, 'Dr. B', 'Neurology', 10, '3213214321'),\n",
    "    (3, 'Dr. C', 'Orthopedics', 20, '6546546543'),\n",
    "    (4, 'Dr. D', 'Dermatology', 8, '7897897890')\n",
    "]\n",
    "\n",
    "cursor.executemany(\"\"\"\n",
    "    insert into doctor values(:1, :2, :3, :4, :5)\n",
    "    \"\"\", doctors)\n",
    "\n",
    "cursor.execute(\"select * from doctor\")\n",
    "results = cursor.fetchall()\n",
    "columns = [col[0] for col in cursor.description]\n",
    "\n",
    "df = pd.DataFrame(results, columns=columns)\n",
    "df"
   ]
  },
  {
   "cell_type": "markdown",
   "id": "8811b26b-6c3c-48fd-a755-4f4b4575e679",
   "metadata": {},
   "source": [
    "## Treatment table"
   ]
  },
  {
   "cell_type": "code",
   "execution_count": 10,
   "id": "11b9041f-b547-4d90-8d93-56de0a7f594b",
   "metadata": {},
   "outputs": [
    {
     "data": {
      "text/html": [
       "<div>\n",
       "<style scoped>\n",
       "    .dataframe tbody tr th:only-of-type {\n",
       "        vertical-align: middle;\n",
       "    }\n",
       "\n",
       "    .dataframe tbody tr th {\n",
       "        vertical-align: top;\n",
       "    }\n",
       "\n",
       "    .dataframe thead th {\n",
       "        text-align: right;\n",
       "    }\n",
       "</style>\n",
       "<table border=\"1\" class=\"dataframe\">\n",
       "  <thead>\n",
       "    <tr style=\"text-align: right;\">\n",
       "      <th></th>\n",
       "      <th>TREATMENT_ID</th>\n",
       "      <th>PATIENT_ID</th>\n",
       "      <th>DOCTOR_ID</th>\n",
       "      <th>TREATMENT_TYPE</th>\n",
       "      <th>START_DATE</th>\n",
       "      <th>END_DATE</th>\n",
       "    </tr>\n",
       "  </thead>\n",
       "  <tbody>\n",
       "    <tr>\n",
       "      <th>0</th>\n",
       "      <td>1</td>\n",
       "      <td>1</td>\n",
       "      <td>1</td>\n",
       "      <td>Heart Surgery</td>\n",
       "      <td>2024-01-01</td>\n",
       "      <td>2024-01-10</td>\n",
       "    </tr>\n",
       "    <tr>\n",
       "      <th>1</th>\n",
       "      <td>2</td>\n",
       "      <td>2</td>\n",
       "      <td>2</td>\n",
       "      <td>Neurological Checkup</td>\n",
       "      <td>2024-02-05</td>\n",
       "      <td>2024-02-06</td>\n",
       "    </tr>\n",
       "    <tr>\n",
       "      <th>2</th>\n",
       "      <td>3</td>\n",
       "      <td>3</td>\n",
       "      <td>3</td>\n",
       "      <td>Orthopedic Surgery</td>\n",
       "      <td>2024-03-03</td>\n",
       "      <td>2024-03-10</td>\n",
       "    </tr>\n",
       "    <tr>\n",
       "      <th>3</th>\n",
       "      <td>4</td>\n",
       "      <td>4</td>\n",
       "      <td>4</td>\n",
       "      <td>Skin Treatment</td>\n",
       "      <td>2024-04-04</td>\n",
       "      <td>2024-04-08</td>\n",
       "    </tr>\n",
       "  </tbody>\n",
       "</table>\n",
       "</div>"
      ],
      "text/plain": [
       "   TREATMENT_ID  PATIENT_ID  DOCTOR_ID        TREATMENT_TYPE START_DATE  \\\n",
       "0             1           1          1         Heart Surgery 2024-01-01   \n",
       "1             2           2          2  Neurological Checkup 2024-02-05   \n",
       "2             3           3          3    Orthopedic Surgery 2024-03-03   \n",
       "3             4           4          4        Skin Treatment 2024-04-04   \n",
       "\n",
       "    END_DATE  \n",
       "0 2024-01-10  \n",
       "1 2024-02-06  \n",
       "2 2024-03-10  \n",
       "3 2024-04-08  "
      ]
     },
     "execution_count": 10,
     "metadata": {},
     "output_type": "execute_result"
    }
   ],
   "source": [
    "treatments = [\n",
    "    (1, 1, 1, 'Heart Surgery', date(2024, 1, 1), date(2024, 1, 10)),\n",
    "    (2, 2, 2, 'Neurological Checkup', date(2024, 2, 5), date(2024, 2, 6)),\n",
    "    (3, 3, 3, 'Orthopedic Surgery', date(2024, 3, 3), date(2024, 3, 10)),\n",
    "    (4, 4, 4, 'Skin Treatment', date(2024, 4, 4), date(2024, 4, 8))\n",
    "]\n",
    "\n",
    "cursor.executemany(\"\"\"\n",
    "    insert into treatment values(:1, :2, :3, :4, :5, :6)\n",
    "    \"\"\", treatments)\n",
    "\n",
    "cursor.execute(\"select * from treatment\")\n",
    "results = cursor.fetchall()\n",
    "columns = [col[0] for col in cursor.description]\n",
    "\n",
    "df = pd.DataFrame(results, columns=columns)\n",
    "df"
   ]
  },
  {
   "cell_type": "markdown",
   "id": "2388eddf-7dfd-4964-a4cf-b32bcccc14c1",
   "metadata": {},
   "source": [
    "## Room table"
   ]
  },
  {
   "cell_type": "code",
   "execution_count": 11,
   "id": "b633c5c8-014a-44a5-9c92-edb89464f8a7",
   "metadata": {},
   "outputs": [
    {
     "data": {
      "text/html": [
       "<div>\n",
       "<style scoped>\n",
       "    .dataframe tbody tr th:only-of-type {\n",
       "        vertical-align: middle;\n",
       "    }\n",
       "\n",
       "    .dataframe tbody tr th {\n",
       "        vertical-align: top;\n",
       "    }\n",
       "\n",
       "    .dataframe thead th {\n",
       "        text-align: right;\n",
       "    }\n",
       "</style>\n",
       "<table border=\"1\" class=\"dataframe\">\n",
       "  <thead>\n",
       "    <tr style=\"text-align: right;\">\n",
       "      <th></th>\n",
       "      <th>ROOM_ID</th>\n",
       "      <th>ROOM_TYPE</th>\n",
       "      <th>CAPACITY</th>\n",
       "      <th>STATUS</th>\n",
       "    </tr>\n",
       "  </thead>\n",
       "  <tbody>\n",
       "    <tr>\n",
       "      <th>0</th>\n",
       "      <td>101</td>\n",
       "      <td>ICU</td>\n",
       "      <td>2</td>\n",
       "      <td>Occupied</td>\n",
       "    </tr>\n",
       "    <tr>\n",
       "      <th>1</th>\n",
       "      <td>102</td>\n",
       "      <td>General</td>\n",
       "      <td>4</td>\n",
       "      <td>Available</td>\n",
       "    </tr>\n",
       "    <tr>\n",
       "      <th>2</th>\n",
       "      <td>103</td>\n",
       "      <td>Private</td>\n",
       "      <td>1</td>\n",
       "      <td>Available</td>\n",
       "    </tr>\n",
       "    <tr>\n",
       "      <th>3</th>\n",
       "      <td>104</td>\n",
       "      <td>General</td>\n",
       "      <td>4</td>\n",
       "      <td>Occupied</td>\n",
       "    </tr>\n",
       "  </tbody>\n",
       "</table>\n",
       "</div>"
      ],
      "text/plain": [
       "   ROOM_ID ROOM_TYPE  CAPACITY     STATUS\n",
       "0      101       ICU         2   Occupied\n",
       "1      102   General         4  Available\n",
       "2      103   Private         1  Available\n",
       "3      104   General         4   Occupied"
      ]
     },
     "execution_count": 11,
     "metadata": {},
     "output_type": "execute_result"
    }
   ],
   "source": [
    "rooms = [\n",
    "    (101, 'ICU', 2, 'Occupied'),\n",
    "    (102, 'General', 4, 'Available'),\n",
    "    (103, 'Private', 1, 'Available'),\n",
    "    (104, 'General', 4, 'Occupied')\n",
    "]\n",
    "\n",
    "cursor.executemany(\"\"\"\n",
    "    insert into room values(:1, :2, :3, :4)\n",
    "    \"\"\", rooms)\n",
    "\n",
    "cursor.execute(\"select * from room\")\n",
    "results = cursor.fetchall()\n",
    "columns = [col[0] for col in cursor.description]\n",
    "\n",
    "df = pd.DataFrame(results, columns=columns)\n",
    "df"
   ]
  },
  {
   "cell_type": "markdown",
   "id": "52c094bc-a5b8-4352-a1e6-b1489f77cfe5",
   "metadata": {},
   "source": [
    "## Appointment table"
   ]
  },
  {
   "cell_type": "code",
   "execution_count": 12,
   "id": "4211997b-5df8-4360-a133-14d1f180422f",
   "metadata": {},
   "outputs": [
    {
     "data": {
      "text/html": [
       "<div>\n",
       "<style scoped>\n",
       "    .dataframe tbody tr th:only-of-type {\n",
       "        vertical-align: middle;\n",
       "    }\n",
       "\n",
       "    .dataframe tbody tr th {\n",
       "        vertical-align: top;\n",
       "    }\n",
       "\n",
       "    .dataframe thead th {\n",
       "        text-align: right;\n",
       "    }\n",
       "</style>\n",
       "<table border=\"1\" class=\"dataframe\">\n",
       "  <thead>\n",
       "    <tr style=\"text-align: right;\">\n",
       "      <th></th>\n",
       "      <th>APPOINTMENT_ID</th>\n",
       "      <th>PATIENT_ID</th>\n",
       "      <th>DOCTOR_ID</th>\n",
       "      <th>ROOM_ID</th>\n",
       "      <th>APPOINTMENT_DATE</th>\n",
       "      <th>APPOINTMENT_TIME</th>\n",
       "    </tr>\n",
       "  </thead>\n",
       "  <tbody>\n",
       "    <tr>\n",
       "      <th>0</th>\n",
       "      <td>1</td>\n",
       "      <td>1</td>\n",
       "      <td>1</td>\n",
       "      <td>101</td>\n",
       "      <td>2024-01-01</td>\n",
       "      <td>10:00</td>\n",
       "    </tr>\n",
       "    <tr>\n",
       "      <th>1</th>\n",
       "      <td>2</td>\n",
       "      <td>2</td>\n",
       "      <td>2</td>\n",
       "      <td>102</td>\n",
       "      <td>2024-02-05</td>\n",
       "      <td>11:00</td>\n",
       "    </tr>\n",
       "    <tr>\n",
       "      <th>2</th>\n",
       "      <td>3</td>\n",
       "      <td>3</td>\n",
       "      <td>3</td>\n",
       "      <td>103</td>\n",
       "      <td>2024-03-03</td>\n",
       "      <td>12:00</td>\n",
       "    </tr>\n",
       "    <tr>\n",
       "      <th>3</th>\n",
       "      <td>4</td>\n",
       "      <td>4</td>\n",
       "      <td>4</td>\n",
       "      <td>104</td>\n",
       "      <td>2024-04-04</td>\n",
       "      <td>13:00</td>\n",
       "    </tr>\n",
       "  </tbody>\n",
       "</table>\n",
       "</div>"
      ],
      "text/plain": [
       "   APPOINTMENT_ID  PATIENT_ID  DOCTOR_ID  ROOM_ID APPOINTMENT_DATE  \\\n",
       "0               1           1          1      101       2024-01-01   \n",
       "1               2           2          2      102       2024-02-05   \n",
       "2               3           3          3      103       2024-03-03   \n",
       "3               4           4          4      104       2024-04-04   \n",
       "\n",
       "  APPOINTMENT_TIME  \n",
       "0            10:00  \n",
       "1            11:00  \n",
       "2            12:00  \n",
       "3            13:00  "
      ]
     },
     "execution_count": 12,
     "metadata": {},
     "output_type": "execute_result"
    }
   ],
   "source": [
    "appointments = [\n",
    "    (1, 1, 1, 101, date(2024, 1, 1), '10:00'),\n",
    "    (2, 2, 2, 102, date(2024, 2, 5), '11:00'),\n",
    "    (3, 3, 3, 103, date(2024, 3, 3), '12:00'),\n",
    "    (4, 4, 4, 104, date(2024, 4, 4), '13:00')\n",
    "]\n",
    "\n",
    "cursor.executemany(\"\"\"\n",
    "    insert into appointment values(:1, :2, :3, :4, :5, :6)\n",
    "    \"\"\", appointments)\n",
    "\n",
    "cursor.execute(\"select * from appointment\")\n",
    "results = cursor.fetchall()\n",
    "columns = [col[0] for col in cursor.description]\n",
    "\n",
    "df = pd.DataFrame(results, columns=columns)\n",
    "df"
   ]
  },
  {
   "cell_type": "markdown",
   "id": "502071cb-4cdb-42fc-8944-ea60dcbb7369",
   "metadata": {},
   "source": [
    "## Bill table"
   ]
  },
  {
   "cell_type": "code",
   "execution_count": 18,
   "id": "2c057ac9-86eb-4a7b-ab42-797dbf5c7bf8",
   "metadata": {},
   "outputs": [
    {
     "data": {
      "text/html": [
       "<div>\n",
       "<style scoped>\n",
       "    .dataframe tbody tr th:only-of-type {\n",
       "        vertical-align: middle;\n",
       "    }\n",
       "\n",
       "    .dataframe tbody tr th {\n",
       "        vertical-align: top;\n",
       "    }\n",
       "\n",
       "    .dataframe thead th {\n",
       "        text-align: right;\n",
       "    }\n",
       "</style>\n",
       "<table border=\"1\" class=\"dataframe\">\n",
       "  <thead>\n",
       "    <tr style=\"text-align: right;\">\n",
       "      <th></th>\n",
       "      <th>BILL_ID</th>\n",
       "      <th>PATIENT_ID</th>\n",
       "      <th>TREATMENT_ID</th>\n",
       "      <th>TOTAL_AMOUNT</th>\n",
       "      <th>DATE_ISSUED</th>\n",
       "    </tr>\n",
       "  </thead>\n",
       "  <tbody>\n",
       "    <tr>\n",
       "      <th>0</th>\n",
       "      <td>1</td>\n",
       "      <td>1</td>\n",
       "      <td>1</td>\n",
       "      <td>50000</td>\n",
       "      <td>2024-01-10</td>\n",
       "    </tr>\n",
       "    <tr>\n",
       "      <th>1</th>\n",
       "      <td>2</td>\n",
       "      <td>2</td>\n",
       "      <td>2</td>\n",
       "      <td>15000</td>\n",
       "      <td>2024-02-06</td>\n",
       "    </tr>\n",
       "    <tr>\n",
       "      <th>2</th>\n",
       "      <td>3</td>\n",
       "      <td>3</td>\n",
       "      <td>3</td>\n",
       "      <td>75000</td>\n",
       "      <td>2024-03-10</td>\n",
       "    </tr>\n",
       "    <tr>\n",
       "      <th>3</th>\n",
       "      <td>4</td>\n",
       "      <td>4</td>\n",
       "      <td>4</td>\n",
       "      <td>10000</td>\n",
       "      <td>2024-04-08</td>\n",
       "    </tr>\n",
       "  </tbody>\n",
       "</table>\n",
       "</div>"
      ],
      "text/plain": [
       "   BILL_ID  PATIENT_ID  TREATMENT_ID  TOTAL_AMOUNT DATE_ISSUED\n",
       "0        1           1             1         50000  2024-01-10\n",
       "1        2           2             2         15000  2024-02-06\n",
       "2        3           3             3         75000  2024-03-10\n",
       "3        4           4             4         10000  2024-04-08"
      ]
     },
     "execution_count": 18,
     "metadata": {},
     "output_type": "execute_result"
    }
   ],
   "source": [
    "bills = [\n",
    "    (1, 1, 1, 50000, date(2024, 1, 10)),\n",
    "    (2, 2, 2, 15000, date(2024, 2, 6)),\n",
    "    (3, 3, 3, 75000, date(2024, 3, 10)),\n",
    "    (4, 4, 4, 10000, date(2024, 4, 8))\n",
    "]\n",
    "\n",
    "cursor.executemany(\"\"\"\n",
    "    insert into bill values(:1, :2, :3, :4, :5)\n",
    "    \"\"\", bills)\n",
    "\n",
    "cursor.execute(\"select * from bill\")\n",
    "results = cursor.fetchall()\n",
    "columns = [col[0] for col in cursor.description]\n",
    "\n",
    "df = pd.DataFrame(results, columns=columns)\n",
    "df"
   ]
  },
  {
   "cell_type": "markdown",
   "id": "61348df0-e0e9-4966-9bbc-f7417049123e",
   "metadata": {},
   "source": [
    "# Closing up the cursor and connection"
   ]
  },
  {
   "cell_type": "code",
   "execution_count": 19,
   "id": "e188899d-9172-49e6-b809-761b2f01ce5b",
   "metadata": {},
   "outputs": [],
   "source": [
    "# connection.commit() - this way the program can be run each time to re-insert the records\n",
    "# otherwise, the records will persist after the program is run once, so I cannot check easily.\n",
    "cursor.close()\n",
    "connection.close()"
   ]
  },
  {
   "cell_type": "code",
   "execution_count": 14,
   "id": "fffec723-e99c-4ea4-8984-61aebe72aa03",
   "metadata": {},
   "outputs": [],
   "source": [
    "cursor.execute(\"alter session set constraints=deferred\")\n",
    "cursor.execute(\"drop table bill cascade constraints\")\n",
    "cursor.execute(\"drop table appointment cascade constraints\")\n",
    "cursor.execute(\"drop table treatment cascade constraints\")\n",
    "cursor.execute(\"drop table room cascade constraints\")\n",
    "cursor.execute(\"drop table doctor cascade constraints\")\n",
    "cursor.execute(\"drop table patient cascade constraints\")"
   ]
  },
  {
   "cell_type": "code",
   "execution_count": null,
   "id": "6fec3f9a-0ad8-402b-93ab-53c487f2187a",
   "metadata": {},
   "outputs": [],
   "source": []
  }
 ],
 "metadata": {
  "kernelspec": {
   "display_name": "Python 3 (ipykernel)",
   "language": "python",
   "name": "python3"
  },
  "language_info": {
   "codemirror_mode": {
    "name": "ipython",
    "version": 3
   },
   "file_extension": ".py",
   "mimetype": "text/x-python",
   "name": "python",
   "nbconvert_exporter": "python",
   "pygments_lexer": "ipython3",
   "version": "3.8.17"
  }
 },
 "nbformat": 4,
 "nbformat_minor": 5
}
