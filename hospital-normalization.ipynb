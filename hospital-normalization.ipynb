{
 "cells": [
  {
   "cell_type": "markdown",
   "id": "63079409-dfc4-48eb-9515-7814e9e46384",
   "metadata": {
    "scrolled": true
   },
   "source": [
    "# Importing required Python libraries/packages"
   ]
  },
  {
   "cell_type": "code",
   "execution_count": null,
   "id": "5e5b52fa-19e1-4872-956d-95da22318efe",
   "metadata": {},
   "outputs": [],
   "source": [
    "import getpass\n",
    "import oracledb\n",
    "import pandas as pd"
   ]
  },
  {
   "cell_type": "markdown",
   "id": "9eca8d31-dc2b-4897-a8a5-c6bff4e58409",
   "metadata": {},
   "source": [
    "# Initialising **thick mode** for Oracle DB - for connection with the local DB instance."
   ]
  },
  {
   "cell_type": "code",
   "execution_count": 7,
   "id": "6b662303-d126-4489-acf3-be741c92297e",
   "metadata": {},
   "outputs": [],
   "source": [
    "oracledb.init_oracle_client(lib_dir='/opt/oracle/product/21c/dbhomeXE/lib')"
   ]
  },
  {
   "cell_type": "markdown",
   "id": "b3d1f2d9-e315-4026-8dd5-f09dd1143dd8",
   "metadata": {},
   "source": [
    "# Establishing connection to the DB, as *SYS* user, in *SYSDBA* role"
   ]
  },
  {
   "cell_type": "code",
   "execution_count": 8,
   "id": "11195106-98d2-4421-83bf-e9e6d3cdbb34",
   "metadata": {},
   "outputs": [],
   "source": [
    "connection = oracledb.connect(\n",
    "\tmode=oracledb.AUTH_MODE_SYSDBA,\n",
    "\tdsn=\"localhost/XEPDB1\"\n",
    ")"
   ]
  },
  {
   "cell_type": "markdown",
   "id": "f678d27a-4b6a-4381-ac5d-df65f506db4b",
   "metadata": {},
   "source": [
    "# Creating a **cursor** to interact with the DB instance"
   ]
  },
  {
   "cell_type": "code",
   "execution_count": 9,
   "id": "ac612f09-45c9-44b1-986d-2264e306aec6",
   "metadata": {},
   "outputs": [],
   "source": [
    "cursor = connection.cursor()"
   ]
  },
  {
   "cell_type": "markdown",
   "id": "2fe9f18a-2024-453f-9c47-a9dd884fff26",
   "metadata": {},
   "source": [
    "# Executing, and displaying the output of, commands on the `placement_event` database"
   ]
  },
  {
   "cell_type": "code",
   "execution_count": 10,
   "id": "b97dabef-9d70-4a91-832e-839b1b8bca2f",
   "metadata": {},
   "outputs": [
    {
     "data": {
      "text/html": [
       "<div>\n",
       "<style scoped>\n",
       "    .dataframe tbody tr th:only-of-type {\n",
       "        vertical-align: middle;\n",
       "    }\n",
       "\n",
       "    .dataframe tbody tr th {\n",
       "        vertical-align: top;\n",
       "    }\n",
       "\n",
       "    .dataframe thead th {\n",
       "        text-align: right;\n",
       "    }\n",
       "</style>\n",
       "<table border=\"1\" class=\"dataframe\">\n",
       "  <thead>\n",
       "    <tr style=\"text-align: right;\">\n",
       "      <th></th>\n",
       "      <th>EVENT_ID</th>\n",
       "      <th>EVENT_NAME</th>\n",
       "      <th>EVENT_DATE</th>\n",
       "      <th>EVENT_LOCATION</th>\n",
       "      <th>COMPANY_ID</th>\n",
       "    </tr>\n",
       "  </thead>\n",
       "  <tbody>\n",
       "    <tr>\n",
       "      <th>0</th>\n",
       "      <td>1</td>\n",
       "      <td>Tech Job Fair</td>\n",
       "      <td>2024-03-10</td>\n",
       "      <td>Tech Park</td>\n",
       "      <td>1</td>\n",
       "    </tr>\n",
       "    <tr>\n",
       "      <th>1</th>\n",
       "      <td>2</td>\n",
       "      <td>Green Energy Conference</td>\n",
       "      <td>2024-04-12</td>\n",
       "      <td>Green Hall</td>\n",
       "      <td>2</td>\n",
       "    </tr>\n",
       "    <tr>\n",
       "      <th>2</th>\n",
       "      <td>3</td>\n",
       "      <td>Automotive Career Expo</td>\n",
       "      <td>2024-05-14</td>\n",
       "      <td>Auto Convention Center</td>\n",
       "      <td>3</td>\n",
       "    </tr>\n",
       "    <tr>\n",
       "      <th>3</th>\n",
       "      <td>4</td>\n",
       "      <td>Construction Expo</td>\n",
       "      <td>2024-06-16</td>\n",
       "      <td>Skyline Plaza</td>\n",
       "      <td>4</td>\n",
       "    </tr>\n",
       "    <tr>\n",
       "      <th>4</th>\n",
       "      <td>5</td>\n",
       "      <td>Healthcare Career Summit</td>\n",
       "      <td>2024-07-18</td>\n",
       "      <td>BioHealth Arena</td>\n",
       "      <td>5</td>\n",
       "    </tr>\n",
       "    <tr>\n",
       "      <th>5</th>\n",
       "      <td>6</td>\n",
       "      <td>Agriculture Conference</td>\n",
       "      <td>2024-08-20</td>\n",
       "      <td>AgroGrow Field</td>\n",
       "      <td>6</td>\n",
       "    </tr>\n",
       "    <tr>\n",
       "      <th>6</th>\n",
       "      <td>7</td>\n",
       "      <td>Fintech Career Fest</td>\n",
       "      <td>2024-09-22</td>\n",
       "      <td>Fintech Center</td>\n",
       "      <td>7</td>\n",
       "    </tr>\n",
       "  </tbody>\n",
       "</table>\n",
       "</div>"
      ],
      "text/plain": [
       "   EVENT_ID                EVENT_NAME EVENT_DATE          EVENT_LOCATION  \\\n",
       "0         1             Tech Job Fair 2024-03-10               Tech Park   \n",
       "1         2   Green Energy Conference 2024-04-12              Green Hall   \n",
       "2         3    Automotive Career Expo 2024-05-14  Auto Convention Center   \n",
       "3         4         Construction Expo 2024-06-16           Skyline Plaza   \n",
       "4         5  Healthcare Career Summit 2024-07-18         BioHealth Arena   \n",
       "5         6    Agriculture Conference 2024-08-20          AgroGrow Field   \n",
       "6         7       Fintech Career Fest 2024-09-22          Fintech Center   \n",
       "\n",
       "   COMPANY_ID  \n",
       "0           1  \n",
       "1           2  \n",
       "2           3  \n",
       "3           4  \n",
       "4           5  \n",
       "5           6  \n",
       "6           7  "
      ]
     },
     "execution_count": 10,
     "metadata": {},
     "output_type": "execute_result"
    }
   ],
   "source": [
    "cursor.execute(\"select * from placement_event\")\n",
    "\n",
    "results = cursor.fetchall()\n",
    "columns = [col[0] for col in cursor.description]\n",
    "\n",
    "df = pd.DataFrame(results, columns=columns)\n",
    "df"
   ]
  },
  {
   "cell_type": "markdown",
   "id": "b8cf1c41-9ff7-4788-a7c5-57dea736bdd4",
   "metadata": {},
   "source": [
    "# Creating the tables"
   ]
  },
  {
   "cell_type": "markdown",
   "id": "7ab82cdb-6d66-45a6-a732-9e0243e4a8d6",
   "metadata": {},
   "source": [
    "## Patient table"
   ]
  },
  {
   "cell_type": "code",
   "execution_count": 19,
   "id": "2a025e10-9fa2-4d85-a43f-c964136936e7",
   "metadata": {},
   "outputs": [],
   "source": [
    "cursor.execute(\"drop table patient\")\n",
    "\n",
    "cursor.execute(\"\"\"\n",
    "create table patient(\n",
    "    patient_id number primary key,\n",
    "    name varchar2(100),\n",
    "    address varchar2(255),\n",
    "    date_of_birth date,\n",
    "    phone varchar2(15)\n",
    "    )\n",
    "\"\"\")"
   ]
  },
  {
   "cell_type": "markdown",
   "id": "7d5bb30e-1633-4afe-912c-8966b107aa2e",
   "metadata": {},
   "source": [
    "## Doctor table"
   ]
  },
  {
   "cell_type": "code",
   "execution_count": 22,
   "id": "4dc39d97-77b4-4176-ab2d-2b58435b84ff",
   "metadata": {},
   "outputs": [],
   "source": [
    "cursor.execute(\"drop table doctor\")\n",
    "\n",
    "cursor.execute(\"\"\"\n",
    "create table doctor(\n",
    "    doctor_id number primary key,\n",
    "    name varchar2(100),\n",
    "    specializations varchar2(255),\n",
    "    experience_years number,\n",
    "    contact varchar2(15)\n",
    "    )\n",
    "\"\"\")"
   ]
  },
  {
   "cell_type": "markdown",
   "id": "aed3c8eb-41b7-4644-b16c-17ae0bf41216",
   "metadata": {},
   "source": [
    "## Room table"
   ]
  },
  {
   "cell_type": "code",
   "execution_count": 26,
   "id": "8e402fdd-1e7a-41f2-96b8-3d797e0b156f",
   "metadata": {},
   "outputs": [],
   "source": [
    "cursor.execute(\"drop table room\")\n",
    "\n",
    "cursor.execute(\"\"\"\n",
    "create table room(\n",
    "    room_id number primary key,\n",
    "    room_type varchar2(50),\n",
    "    capacity number,\n",
    "    status varchar2(50)\n",
    ")\n",
    "\"\"\")"
   ]
  },
  {
   "cell_type": "markdown",
   "id": "f17acc2a-9beb-4512-b621-8f3d34b4474f",
   "metadata": {},
   "source": [
    "## Treatment table"
   ]
  },
  {
   "cell_type": "code",
   "execution_count": 28,
   "id": "ff24647f-2268-422c-afab-abb7fe4ecc48",
   "metadata": {},
   "outputs": [],
   "source": [
    "cursor.execute(\"drop table treatment\")\n",
    "\n",
    "cursor.execute(\"\"\"\n",
    "create table treatment(\n",
    "    treatment_id number primary key,\n",
    "    patient_id number,\n",
    "    doctor_id number,\n",
    "    treatment_type varchar2(100),\n",
    "    start_date date,\n",
    "    end_date date,\n",
    "    foreign key(patient_id) references patient(patient_id),\n",
    "    foreign key(doctor_id) references doctor(doctor_id)\n",
    ")\n",
    "\"\"\")"
   ]
  },
  {
   "cell_type": "markdown",
   "id": "e2453d22-4932-4701-ba88-f07b2f13f512",
   "metadata": {},
   "source": [
    "## Appointment table"
   ]
  },
  {
   "cell_type": "code",
   "execution_count": 33,
   "id": "704ddd4c-d5ac-4e52-ae78-12d8e02479be",
   "metadata": {},
   "outputs": [],
   "source": [
    "cursor.execute(\"drop table appointment\")\n",
    "\n",
    "cursor.execute(\"\"\"\n",
    "create table appointment(\n",
    "    appointment_id number primary key,\n",
    "    patient_id number,\n",
    "    doctor_id number,\n",
    "    room_id number,\n",
    "    appointment_date date,\n",
    "    appointment_time varchar2(10),\n",
    "    foreign key(patient_id) references patient(patient_id),\n",
    "    foreign key(doctor_id) references doctor(doctor_id),\n",
    "    foreign key(room_id) references room(room_id)\n",
    ")\n",
    "\"\"\")"
   ]
  },
  {
   "cell_type": "markdown",
   "id": "ce10541f-86b9-4c6b-bf30-25dcd7df12e6",
   "metadata": {},
   "source": [
    "## Bill table"
   ]
  },
  {
   "cell_type": "code",
   "execution_count": 36,
   "id": "8743dee8-c58a-467c-b2fc-7a6b3670f205",
   "metadata": {},
   "outputs": [],
   "source": [
    "cursor.execute(\"drop table bill\")\n",
    "\n",
    "cursor.execute(\"\"\"\n",
    "create table bill(\n",
    "    bill_id number primary key,\n",
    "    patient_id number,\n",
    "    treatment_id number,\n",
    "    total_amount number,\n",
    "    date_issued date,\n",
    "    foreign key(patient_id) references patient(patient_id),\n",
    "    foreign key(treatment_id) references treatment(treatment_id)\n",
    ")\n",
    "\"\"\")"
   ]
  },
  {
   "cell_type": "markdown",
   "id": "61348df0-e0e9-4966-9bbc-f7417049123e",
   "metadata": {},
   "source": [
    "# Closing up the cursor and connection"
   ]
  },
  {
   "cell_type": "code",
   "execution_count": 13,
   "id": "e188899d-9172-49e6-b809-761b2f01ce5b",
   "metadata": {},
   "outputs": [],
   "source": [
    "cursor.close()\n",
    "connection.close()"
   ]
  },
  {
   "cell_type": "code",
   "execution_count": null,
   "id": "fffec723-e99c-4ea4-8984-61aebe72aa03",
   "metadata": {},
   "outputs": [],
   "source": []
  }
 ],
 "metadata": {
  "kernelspec": {
   "display_name": "Python 3 (ipykernel)",
   "language": "python",
   "name": "python3"
  },
  "language_info": {
   "codemirror_mode": {
    "name": "ipython",
    "version": 3
   },
   "file_extension": ".py",
   "mimetype": "text/x-python",
   "name": "python",
   "nbconvert_exporter": "python",
   "pygments_lexer": "ipython3",
   "version": "3.8.17"
  }
 },
 "nbformat": 4,
 "nbformat_minor": 5
}
