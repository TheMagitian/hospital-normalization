{
 "cells": [
  {
   "cell_type": "code",
   "execution_count": 1,
   "id": "46718b0f-d54f-49f1-b6ce-fbbcce30c121",
   "metadata": {
    "scrolled": true
   },
   "outputs": [
    {
     "data": {
      "text/markdown": [
       "# Importing required Python libraries/packages\n"
      ],
      "text/plain": [
       "<IPython.core.display.Markdown object>"
      ]
     },
     "metadata": {},
     "output_type": "display_data"
    }
   ],
   "source": [
    "%%markdown\n",
    "# Importing required Python libraries/packages"
   ]
  },
  {
   "cell_type": "code",
   "execution_count": 23,
   "id": "5e5b52fa-19e1-4872-956d-95da22318efe",
   "metadata": {},
   "outputs": [],
   "source": [
    "import getpass\n",
    "import oracledb\n",
    "import pandas as pd"
   ]
  },
  {
   "cell_type": "code",
   "execution_count": 4,
   "id": "6021f05d-ce99-4a26-919c-e3671f25c633",
   "metadata": {},
   "outputs": [
    {
     "data": {
      "text/markdown": [
       "# Initialising **thick mode** for Oracle DB - for connection with the local DB instance.\n"
      ],
      "text/plain": [
       "<IPython.core.display.Markdown object>"
      ]
     },
     "metadata": {},
     "output_type": "display_data"
    }
   ],
   "source": [
    "%%markdown\n",
    "# Initialising **thick mode** for Oracle DB - for connection with the local DB instance."
   ]
  },
  {
   "cell_type": "code",
   "execution_count": 17,
   "id": "6b662303-d126-4489-acf3-be741c92297e",
   "metadata": {},
   "outputs": [],
   "source": [
    "oracledb.init_oracle_client(lib_dir='/opt/oracle/product/21c/dbhomeXE/lib')"
   ]
  },
  {
   "cell_type": "code",
   "execution_count": 6,
   "id": "5bd28bac-6bdd-4c2a-b3d3-0457d93fb7a5",
   "metadata": {},
   "outputs": [
    {
     "data": {
      "text/markdown": [
       "# Establishing connection to the DB, as *SYS* user, in *SYSDBA* role\n"
      ],
      "text/plain": [
       "<IPython.core.display.Markdown object>"
      ]
     },
     "metadata": {},
     "output_type": "display_data"
    }
   ],
   "source": [
    "%%markdown\n",
    "# Establishing connection to the DB, as *SYS* user, in *SYSDBA* role"
   ]
  },
  {
   "cell_type": "code",
   "execution_count": 18,
   "id": "11195106-98d2-4421-83bf-e9e6d3cdbb34",
   "metadata": {},
   "outputs": [],
   "source": [
    "connection = oracledb.connect(\n",
    "\tmode=oracledb.AUTH_MODE_SYSDBA,\n",
    "\tdsn=\"localhost/XEPDB1\"\n",
    ")"
   ]
  },
  {
   "cell_type": "code",
   "execution_count": 8,
   "id": "6a3c8a95-b285-4b5c-a543-a1986b3e7c65",
   "metadata": {},
   "outputs": [
    {
     "data": {
      "text/markdown": [
       "# Creating a **cursor** to interact with the DB instance\n"
      ],
      "text/plain": [
       "<IPython.core.display.Markdown object>"
      ]
     },
     "metadata": {},
     "output_type": "display_data"
    }
   ],
   "source": [
    "%%markdown\n",
    "# Creating a **cursor** to interact with the DB instance"
   ]
  },
  {
   "cell_type": "code",
   "execution_count": 19,
   "id": "ac612f09-45c9-44b1-986d-2264e306aec6",
   "metadata": {},
   "outputs": [],
   "source": [
    "cursor = connection.cursor()"
   ]
  },
  {
   "cell_type": "code",
   "execution_count": 10,
   "id": "d7dd824d-cc5d-4b13-a9d8-b4275b990591",
   "metadata": {},
   "outputs": [
    {
     "data": {
      "text/markdown": [
       "# Executing, and displaying the output of, commands on the `placement_event` database\n"
      ],
      "text/plain": [
       "<IPython.core.display.Markdown object>"
      ]
     },
     "metadata": {},
     "output_type": "display_data"
    }
   ],
   "source": [
    "%%markdown\n",
    "# Executing, and displaying the output of, commands on the `placement_event` database"
   ]
  },
  {
   "cell_type": "code",
   "execution_count": 26,
   "id": "b97dabef-9d70-4a91-832e-839b1b8bca2f",
   "metadata": {},
   "outputs": [
    {
     "data": {
      "text/html": [
       "<div>\n",
       "<style scoped>\n",
       "    .dataframe tbody tr th:only-of-type {\n",
       "        vertical-align: middle;\n",
       "    }\n",
       "\n",
       "    .dataframe tbody tr th {\n",
       "        vertical-align: top;\n",
       "    }\n",
       "\n",
       "    .dataframe thead th {\n",
       "        text-align: right;\n",
       "    }\n",
       "</style>\n",
       "<table border=\"1\" class=\"dataframe\">\n",
       "  <thead>\n",
       "    <tr style=\"text-align: right;\">\n",
       "      <th></th>\n",
       "      <th>EVENT_ID</th>\n",
       "      <th>EVENT_NAME</th>\n",
       "      <th>EVENT_DATE</th>\n",
       "      <th>EVENT_LOCATION</th>\n",
       "      <th>COMPANY_ID</th>\n",
       "    </tr>\n",
       "  </thead>\n",
       "  <tbody>\n",
       "    <tr>\n",
       "      <th>0</th>\n",
       "      <td>1</td>\n",
       "      <td>Tech Job Fair</td>\n",
       "      <td>2024-03-10</td>\n",
       "      <td>Tech Park</td>\n",
       "      <td>1</td>\n",
       "    </tr>\n",
       "    <tr>\n",
       "      <th>1</th>\n",
       "      <td>2</td>\n",
       "      <td>Green Energy Conference</td>\n",
       "      <td>2024-04-12</td>\n",
       "      <td>Green Hall</td>\n",
       "      <td>2</td>\n",
       "    </tr>\n",
       "    <tr>\n",
       "      <th>2</th>\n",
       "      <td>3</td>\n",
       "      <td>Automotive Career Expo</td>\n",
       "      <td>2024-05-14</td>\n",
       "      <td>Auto Convention Center</td>\n",
       "      <td>3</td>\n",
       "    </tr>\n",
       "    <tr>\n",
       "      <th>3</th>\n",
       "      <td>4</td>\n",
       "      <td>Construction Expo</td>\n",
       "      <td>2024-06-16</td>\n",
       "      <td>Skyline Plaza</td>\n",
       "      <td>4</td>\n",
       "    </tr>\n",
       "    <tr>\n",
       "      <th>4</th>\n",
       "      <td>5</td>\n",
       "      <td>Healthcare Career Summit</td>\n",
       "      <td>2024-07-18</td>\n",
       "      <td>BioHealth Arena</td>\n",
       "      <td>5</td>\n",
       "    </tr>\n",
       "    <tr>\n",
       "      <th>5</th>\n",
       "      <td>6</td>\n",
       "      <td>Agriculture Conference</td>\n",
       "      <td>2024-08-20</td>\n",
       "      <td>AgroGrow Field</td>\n",
       "      <td>6</td>\n",
       "    </tr>\n",
       "    <tr>\n",
       "      <th>6</th>\n",
       "      <td>7</td>\n",
       "      <td>Fintech Career Fest</td>\n",
       "      <td>2024-09-22</td>\n",
       "      <td>Fintech Center</td>\n",
       "      <td>7</td>\n",
       "    </tr>\n",
       "  </tbody>\n",
       "</table>\n",
       "</div>"
      ],
      "text/plain": [
       "   EVENT_ID                EVENT_NAME EVENT_DATE          EVENT_LOCATION  \\\n",
       "0         1             Tech Job Fair 2024-03-10               Tech Park   \n",
       "1         2   Green Energy Conference 2024-04-12              Green Hall   \n",
       "2         3    Automotive Career Expo 2024-05-14  Auto Convention Center   \n",
       "3         4         Construction Expo 2024-06-16           Skyline Plaza   \n",
       "4         5  Healthcare Career Summit 2024-07-18         BioHealth Arena   \n",
       "5         6    Agriculture Conference 2024-08-20          AgroGrow Field   \n",
       "6         7       Fintech Career Fest 2024-09-22          Fintech Center   \n",
       "\n",
       "   COMPANY_ID  \n",
       "0           1  \n",
       "1           2  \n",
       "2           3  \n",
       "3           4  \n",
       "4           5  \n",
       "5           6  \n",
       "6           7  "
      ]
     },
     "execution_count": 26,
     "metadata": {},
     "output_type": "execute_result"
    }
   ],
   "source": [
    "cursor.execute(\"select * from placement_event\")\n",
    "\n",
    "results = cursor.fetchall()\n",
    "columns = [col[0] for col in cursor.description]\n",
    "\n",
    "df = pd.DataFrame(results, columns=columns)\n",
    "df"
   ]
  },
  {
   "cell_type": "code",
   "execution_count": 12,
   "id": "7b842fdf-e280-4baa-8981-785af51d050c",
   "metadata": {},
   "outputs": [
    {
     "data": {
      "text/markdown": [
       "# Closing up the cursor and connection\n"
      ],
      "text/plain": [
       "<IPython.core.display.Markdown object>"
      ]
     },
     "metadata": {},
     "output_type": "display_data"
    }
   ],
   "source": [
    "%%markdown\n",
    "# Closing up the cursor and connection"
   ]
  },
  {
   "cell_type": "code",
   "execution_count": 13,
   "id": "e188899d-9172-49e6-b809-761b2f01ce5b",
   "metadata": {},
   "outputs": [],
   "source": [
    "cursor.close()\n",
    "connection.close()"
   ]
  },
  {
   "cell_type": "code",
   "execution_count": null,
   "id": "fffec723-e99c-4ea4-8984-61aebe72aa03",
   "metadata": {},
   "outputs": [],
   "source": []
  }
 ],
 "metadata": {
  "kernelspec": {
   "display_name": "Python 3 (ipykernel)",
   "language": "python",
   "name": "python3"
  },
  "language_info": {
   "codemirror_mode": {
    "name": "ipython",
    "version": 3
   },
   "file_extension": ".py",
   "mimetype": "text/x-python",
   "name": "python",
   "nbconvert_exporter": "python",
   "pygments_lexer": "ipython3",
   "version": "3.8.17"
  }
 },
 "nbformat": 4,
 "nbformat_minor": 5
}
